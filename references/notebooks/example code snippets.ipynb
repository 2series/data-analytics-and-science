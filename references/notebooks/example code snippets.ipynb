{
 "cells": [
  {
   "cell_type": "markdown",
   "metadata": {},
   "source": [
    "# Example code snippets\n",
    "This notebook contains code snippets for the following statistical techniques:\n",
    "- [linear regression](#Linear-regression)\n",
    "- [curve fitting](#Curve-fitting)\n",
    "- [clustering](#Clustering)\n",
    "    - [K-means clustering](#K-means-clustering)\n",
    "    - [Agglomerative hierarchical clustering](#Agglomerative-hierarchical-clustering)\n",
    "- [A/B Testing](#A-/-B-testing)\n",
    "    - [One sample t-test](#One-sample-t-test)\n",
    "    - [Two sample t-test](#Two-sample-t-test)\n",
    "    - [Paired t-test](#Paired-t-test)\n",
    "    - [Analysis of variance (ANOVA)](#Analysis-of-Variance-(ANOVA)\n",
    "    - [KS test](#KS-test)\n",
    "    - [Shapiro test](#Shapiro-test)\n",
    "    - [Anderson-Darling test](#Anderson-Darling-test)\n",
    "    - [Mood’s Median test](#Mood's-median-test)\n",
    "    - [Kruskall Wallis test](#Kruskall-Wallis test)\n",
    "    - [Bartlett’s test for variances](#Bartlett's-test-for-variances)\n",
    "    - [Levene’s test for variances](#Levene’s-test-for-variances)\n",
    "- Correlation\n",
    "- Regression\n",
    "- Heat Maps\n",
    "- Time Series Analysis\n",
    "- Traditional\n",
    "- Network Analysis\n",
    "- Spatial Data Analysis"
   ]
  },
  {
   "cell_type": "markdown",
   "metadata": {},
   "source": [
    "## Linear regression"
   ]
  },
  {
   "cell_type": "code",
   "execution_count": 5,
   "metadata": {},
   "outputs": [
    {
     "data": {
      "text/plain": [
       "36.4911032803614"
      ]
     },
     "execution_count": 5,
     "metadata": {},
     "output_type": "execute_result"
    }
   ],
   "source": [
    "# Load the data\n",
    "from sklearn import datasets\n",
    "data = datasets.load_boston()\n",
    "\n",
    "# Load linear regression model\n",
    "from sklearn.linear_model import LinearRegression\n",
    "\n",
    "# Load numpy and pandas\n",
    "import numpy as np\n",
    "import pandas as pd\n",
    "\n",
    "# define the data/predictors as the pre-set feature names  \n",
    "df = pd.DataFrame(data.data, columns=data.feature_names)\n",
    "\n",
    "# Put the target (housing value -- MEDV) in another DataFrame\n",
    "target = pd.DataFrame(data.target, columns=[\"MEDV\"])\n",
    "\n",
    "X = df # X are the features you want to train on\n",
    "y = target[\"MEDV\"] # y is the feature you want to predict\n",
    "\n",
    "# Fit the model\n",
    "lm = LinearRegression()\n",
    "model = lm.fit(X,y)\n",
    "\n",
    "# Predict\n",
    "predictions = lm.predict(X)\n",
    "\n",
    "# The R2 score\n",
    "lm.score(X,y)\n",
    "\n",
    "# The intercept score\n",
    "lm.intercept_"
   ]
  },
  {
   "cell_type": "markdown",
   "metadata": {},
   "source": [
    "## Curve fitting"
   ]
  },
  {
   "cell_type": "code",
   "execution_count": 24,
   "metadata": {},
   "outputs": [
    {
     "data": {
      "text/plain": [
       "[<matplotlib.lines.Line2D at 0xc86d8d0>]"
      ]
     },
     "execution_count": 24,
     "metadata": {},
     "output_type": "execute_result"
    },
    {
     "data": {
      "image/png": "[encoded data removed]",
      "text/plain": [
       "<Figure size 432x288 with 1 Axes>"
      ]
     },
     "metadata": {},
     "output_type": "display_data"
    }
   ],
   "source": [
    "import numpy as np\n",
    "from scipy.optimize import curve_fit\n",
    "import matplotlib.pyplot as plt\n",
    "\n",
    "# Create two separate arrays containing x and y values.\n",
    "x = np.array([1, 2, 3, 9])\n",
    "y = np.array([1, 4, 1, 3])\n",
    "\n",
    "# Curve_fit also requires a function that provides the type of fit you would like. \n",
    "# For instance, a linear fit would use a function like\n",
    "def curve_fit_function(x, a, b):\n",
    "    return a * x + b\n",
    "\n",
    "# scipy.optimize.curve_fit(func, x, y) will return a numpy array containing two arrays: \n",
    "# the first will contain values for a and b that best fit your data, \n",
    "# and the second will be the covariance of the optimal fit parameters.\n",
    "params = curve_fit(curve_fit_function, x, y)\n",
    "\n",
    "[a, b] = params[0]\n",
    "plt.plot(params[0])"
   ]
  },
  {
   "cell_type": "markdown",
   "metadata": {},
   "source": [
    "## Clustering"
   ]
  },
  {
   "cell_type": "markdown",
   "metadata": {},
   "source": [
    "### K-means clustering"
   ]
  },
  {
   "cell_type": "code",
   "execution_count": 16,
   "metadata": {},
   "outputs": [
    {
     "name": "stdout",
     "output_type": "stream",
     "text": [
      "[[-5.56465793 -2.34988939]\n",
      " [-2.40167949 10.17352695]\n",
      " [ 0.05161133 -5.35489826]\n",
      " [-1.92101646  5.21673484]]\n"
     ]
    },
    {
     "data": {
      "text/plain": [
       "<matplotlib.collections.PathCollection at 0xb897438>"
      ]
     },
     "execution_count": 16,
     "metadata": {},
     "output_type": "execute_result"
    },
    {
     "data": {
      "image/png": "[encoded data removed]",
      "text/plain": [
       "<Figure size 432x288 with 1 Axes>"
      ]
     },
     "metadata": {},
     "output_type": "display_data"
    }
   ],
   "source": [
    "from sklearn.datasets import make_blobs\n",
    "import numpy as np\n",
    "import matplotlib.pyplot as plt\n",
    "\n",
    "# K-means is the most frequently used form of clustering due to its speed and simplicity.\n",
    "from sklearn.cluster import KMeans\n",
    "\n",
    "# create blobs\n",
    "data = make_blobs(n_samples=200, n_features=2, centers=4, cluster_std=1.6, random_state=50)\n",
    "\n",
    "# create np array for data points\n",
    "points = data[0]\n",
    "\n",
    "# create kmeans object\n",
    "kmeans = KMeans(n_clusters=4)\n",
    "\n",
    "# fit kmeans object to data\n",
    "kmeans.fit(points)\n",
    "\n",
    "# print location of clusters learned by kmeans object\n",
    "print(kmeans.cluster_centers_)\n",
    "\n",
    "# save new clusters for chart\n",
    "y_km = kmeans.fit_predict(points)\n",
    "\n",
    "plt.scatter(points[y_km ==0,0], points[y_km == 0,1], s=100, c='red')\n",
    "plt.scatter(points[y_km ==1,0], points[y_km == 1,1], s=100, c='black')\n",
    "plt.scatter(points[y_km ==2,0], points[y_km == 2,1], s=100, c='blue')\n",
    "plt.scatter(points[y_km ==3,0], points[y_km == 3,1], s=100, c='cyan')"
   ]
  },
  {
   "cell_type": "markdown",
   "metadata": {},
   "source": [
    "### Agglomerative hierarchical clustering"
   ]
  },
  {
   "cell_type": "code",
   "execution_count": 17,
   "metadata": {},
   "outputs": [
    {
     "data": {
      "image/png": "[encoded data removed]",
      "text/plain": [
       "<Figure size 432x288 with 1 Axes>"
      ]
     },
     "metadata": {},
     "output_type": "display_data"
    }
   ],
   "source": [
    "from sklearn.datasets import make_blobs\n",
    "import scipy.cluster.hierarchy as sch\n",
    "from sklearn.cluster import AgglomerativeClustering\n",
    "import numpy as np\n",
    "import matplotlib.pyplot as plt\n",
    "\n",
    "# create blobs\n",
    "data = make_blobs(n_samples=200, n_features=2, centers=4, cluster_std=1.6, random_state=50)\n",
    "\n",
    "# create np array for data points\n",
    "points = data[0]\n",
    "\n",
    "# create dendrogram\n",
    "dendrogram = sch.dendrogram(sch.linkage(points, method='ward'))\n",
    "\n",
    "# create clusters\n",
    "hc = AgglomerativeClustering(n_clusters=4, affinity = 'euclidean', linkage = 'ward')\n",
    "\n",
    "# save clusters for chart\n",
    "y_hc = hc.fit_predict(points)"
   ]
  },
  {
   "cell_type": "code",
   "execution_count": 18,
   "metadata": {},
   "outputs": [
    {
     "data": {
      "text/plain": [
       "<matplotlib.collections.PathCollection at 0xc7a2320>"
      ]
     },
     "execution_count": 18,
     "metadata": {},
     "output_type": "execute_result"
    },
    {
     "data": {
      "image/png": "[encoded data removed]",
      "text/plain": [
       "<Figure size 432x288 with 1 Axes>"
      ]
     },
     "metadata": {},
     "output_type": "display_data"
    }
   ],
   "source": [
    "plt.scatter(points[y_hc ==0,0], points[y_hc == 0,1], s=100, c='red')\n",
    "plt.scatter(points[y_hc==1,0], points[y_hc == 1,1], s=100, c='black')\n",
    "plt.scatter(points[y_hc ==2,0], points[y_hc == 2,1], s=100, c='blue')\n",
    "plt.scatter(points[y_hc ==3,0], points[y_hc == 3,1], s=100, c='cyan')"
   ]
  },
  {
   "cell_type": "markdown",
   "metadata": {},
   "source": [
    "## A / B testing\n",
    "![ab test](./img/how-can-i-ab.png)"
   ]
  },
  {
   "cell_type": "markdown",
   "metadata": {},
   "source": [
    "### One sample t-test"
   ]
  },
  {
   "cell_type": "code",
   "execution_count": 21,
   "metadata": {},
   "outputs": [
    {
     "data": {
      "text/plain": [
       "0.00023838063630967753"
      ]
     },
     "execution_count": 21,
     "metadata": {},
     "output_type": "execute_result"
    }
   ],
   "source": [
    "from scipy import stats\n",
    "\n",
    "female_doctor_bps = [128, 127, 118, 115, 144, 142, 133, 140, 132, 131, \n",
    "                     111, 132, 149, 122, 139, 119, 136, 129, 126, 128]\n",
    "general_population_bps = 120\n",
    "\n",
    "result = stats.ttest_1samp(female_doctor_bps, general_population_bps)\n",
    "result.pvalue"
   ]
  },
  {
   "cell_type": "markdown",
   "metadata": {},
   "source": [
    "### Two sample t-test"
   ]
  },
  {
   "cell_type": "code",
   "execution_count": 26,
   "metadata": {},
   "outputs": [
    {
     "data": {
      "text/plain": [
       "0.0011571376404026158"
      ]
     },
     "execution_count": 26,
     "metadata": {},
     "output_type": "execute_result"
    }
   ],
   "source": [
    "from scipy import stats\n",
    "\n",
    "female_doctor_bps = [128, 127, 118, 115, 144, 142, 133, 140, 132, 131, \n",
    "                     111, 132, 149, 122, 139, 119, 136, 129, 126, 128]\n",
    "\n",
    "male_consultant_bps = [118, 115, 112, 120, 124, 130, 123, 110, 120, 121,\n",
    "                      123, 125, 129, 130, 112, 117, 119, 120, 123, 128]\n",
    "\n",
    "result = stats.ttest_ind(female_doctor_bps, male_consultant_bps)\n",
    "result.pvalue"
   ]
  },
  {
   "cell_type": "markdown",
   "metadata": {},
   "source": [
    "### Paired t-test"
   ]
  },
  {
   "cell_type": "code",
   "execution_count": 27,
   "metadata": {},
   "outputs": [
    {
     "data": {
      "text/plain": [
       "0.0055329408161001415"
      ]
     },
     "execution_count": 27,
     "metadata": {},
     "output_type": "execute_result"
    }
   ],
   "source": [
    "from scipy import stats\n",
    "\n",
    "control = [8.0, 7.1, 6.5, 6.7, 7.2, 5.4, 4.7, 8.1, 6.3, 4.8]\n",
    "treatment = [9.9, 7.9, 7.6, 6.8, 7.1, 9.9, 10.5, 9.7, 10.9, 8.2]\n",
    "\n",
    "result = stats.ttest_rel(control, treatment)\n",
    "result.pvalue"
   ]
  },
  {
   "cell_type": "markdown",
   "metadata": {},
   "source": [
    "### Analysis of Variance (ANOVA)"
   ]
  },
  {
   "cell_type": "code",
   "execution_count": 30,
   "metadata": {},
   "outputs": [
    {
     "data": {
      "text/plain": [
       "0.0159099583256229"
      ]
     },
     "execution_count": 30,
     "metadata": {},
     "output_type": "execute_result"
    }
   ],
   "source": [
    "from scipy import stats\n",
    "\n",
    "ctrl = [4.17, 5.58, 5.18, 6.11, 4.5, 4.61, 5.17, 4.53, 5.33, 5.14]\n",
    "trt1 = [4.81, 4.17, 4.41, 3.59, 5.87, 3.83, 6.03, 4.89, 4.32, 4.69]\n",
    "trt2 = [6.31, 5.12, 5.54, 5.5, 5.37, 5.29, 4.92, 6.15, 5.8, 5.26]\n",
    "\n",
    "result = stats.f_oneway(ctrl, trt1, trt2)\n",
    "result.pvalue"
   ]
  },
  {
   "cell_type": "markdown",
   "metadata": {},
   "source": [
    "### KS test"
   ]
  },
  {
   "cell_type": "code",
   "execution_count": null,
   "metadata": {},
   "outputs": [],
   "source": [
    "  "
   ]
  },
  {
   "cell_type": "markdown",
   "metadata": {},
   "source": [
    "### Shapiro test"
   ]
  },
  {
   "cell_type": "code",
   "execution_count": null,
   "metadata": {},
   "outputs": [],
   "source": []
  },
  {
   "cell_type": "markdown",
   "metadata": {},
   "source": [
    "### Anderson-Darling test"
   ]
  },
  {
   "cell_type": "code",
   "execution_count": null,
   "metadata": {},
   "outputs": [],
   "source": []
  },
  {
   "cell_type": "markdown",
   "metadata": {},
   "source": [
    "### Mood's median test"
   ]
  },
  {
   "cell_type": "code",
   "execution_count": null,
   "metadata": {},
   "outputs": [],
   "source": []
  },
  {
   "cell_type": "markdown",
   "metadata": {},
   "source": [
    "### Kruskal Wallis test"
   ]
  },
  {
   "cell_type": "code",
   "execution_count": null,
   "metadata": {},
   "outputs": [],
   "source": []
  },
  {
   "cell_type": "markdown",
   "metadata": {},
   "source": [
    "### Bartlett's test for variances"
   ]
  },
  {
   "cell_type": "code",
   "execution_count": null,
   "metadata": {},
   "outputs": [],
   "source": []
  },
  {
   "cell_type": "markdown",
   "metadata": {},
   "source": [
    "### Levene’s test for variances"
   ]
  },
  {
   "cell_type": "code",
   "execution_count": null,
   "metadata": {},
   "outputs": [],
   "source": []
  }
 ],
 "metadata": {
  "kernelspec": {
   "display_name": "Python 3",
   "language": "python",
   "name": "python3"
  },
  "language_info": {
   "codemirror_mode": {
    "name": "ipython",
    "version": 3
   },
   "file_extension": ".py",
   "mimetype": "text/x-python",
   "name": "python",
   "nbconvert_exporter": "python",
   "pygments_lexer": "ipython3",
   "version": "3.6.5"
  }
 },
 "nbformat": 4,
 "nbformat_minor": 2
}
